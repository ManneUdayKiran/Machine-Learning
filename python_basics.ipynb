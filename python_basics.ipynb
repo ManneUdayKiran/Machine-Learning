{
 "cells": [
  {
   "cell_type": "code",
   "execution_count": 1,
   "id": "5abba72f-682e-416e-97b0-2331f83aacff",
   "metadata": {},
   "outputs": [
    {
     "name": "stdout",
     "output_type": "stream",
     "text": [
      "udayKiran\n"
     ]
    }
   ],
   "source": [
    "a=\"udayKiran\"\n",
    "print(a)"
   ]
  },
  {
   "cell_type": "code",
   "execution_count": 2,
   "id": "e01430bf-8926-41a2-8938-51cb8da03abc",
   "metadata": {},
   "outputs": [
    {
     "name": "stdout",
     "output_type": "stream",
     "text": [
      "Helo Wprld!\n"
     ]
    }
   ],
   "source": [
    "def hello():\n",
    "    print(\"Helo Wprld!\")\n",
    "hello()"
   ]
  },
  {
   "cell_type": "code",
   "execution_count": 3,
   "id": "1eda588d-ec5e-46d8-a505-b1711e856278",
   "metadata": {},
   "outputs": [],
   "source": [
    "def add(x,y):\n",
    "    return x+y\n",
    "def sub(x,y):\n",
    "    return x-y\n",
    "def mul(x,y):\n",
    "    return x*y\n",
    "def div(x,y):\n",
    "    if y!=0:\n",
    "        return x/y\n",
    "    else:\n",
    "        return\"Not divisible by zero\"\n",
    "\n",
    "num1=2\n",
    "num2=5"
   ]
  },
  {
   "cell_type": "code",
   "execution_count": 5,
   "id": "0a55f242-c942-46b3-8d8f-d239539f6378",
   "metadata": {},
   "outputs": [
    {
     "name": "stdout",
     "output_type": "stream",
     "text": [
      "sum 7\n",
      "sub -3\n",
      "mul 10\n",
      "division 0.4\n"
     ]
    }
   ],
   "source": [
    "print(\"sum\",add(num1,num2))\n",
    "print(\"sub\",sub(num1,num2))\n",
    "print(\"mul\",mul(num1,num2))\n",
    "print(\"division\",div(num1,num2))"
   ]
  },
  {
   "cell_type": "code",
   "execution_count": 28,
   "id": "f957fbdf-804e-4709-8b18-e17e9afb095b",
   "metadata": {},
   "outputs": [],
   "source": [
    "num=[1,2,3,4,5,6,9]\n",
    "even_nums=list(filter(lambda x:x%2==0,num))"
   ]
  },
  {
   "cell_type": "code",
   "execution_count": 27,
   "id": "5387f5fc-4cb0-487e-ac47-e0ebfb3b8959",
   "metadata": {},
   "outputs": [
    {
     "name": "stdout",
     "output_type": "stream",
     "text": [
      "the compond interest isf 159.27407430000017\n"
     ]
    }
   ],
   "source": [
    "def ci(p,r,t):\n",
    "    amount=p*(1+r/100)**t\n",
    "    return amount-p\n",
    "p=1000\n",
    "r=3\n",
    "t=5\n",
    "print(f\"the compond interest isf\",ci(p,r,t)) "
   ]
  },
  {
   "cell_type": "code",
   "execution_count": 29,
   "id": "1e04254e-8103-4ed7-9773-2ed4fbbf9db4",
   "metadata": {},
   "outputs": [
    {
     "name": "stdout",
     "output_type": "stream",
     "text": [
      "[2, 4, 6]\n"
     ]
    }
   ],
   "source": [
    "print(even_nums)\n"
   ]
  },
  {
   "cell_type": "code",
   "execution_count": 30,
   "id": "c58d7da0-355a-448e-975e-9b1353600435",
   "metadata": {},
   "outputs": [],
   "source": [
    "import random "
   ]
  },
  {
   "cell_type": "code",
   "execution_count": 33,
   "id": "b8b05a53-c1df-4cfc-8d82-9a80bf72087e",
   "metadata": {},
   "outputs": [
    {
     "name": "stdout",
     "output_type": "stream",
     "text": [
      "the coin landed on Heads\n"
     ]
    }
   ],
   "source": [
    "coin_toss=random.choice([\"Heads\",\"tails\"])\n",
    "print(f\"the coin landed on {coin_toss}\")"
   ]
  },
  {
   "cell_type": "code",
   "execution_count": 35,
   "id": "292c1974-6a02-4bf0-abb9-91294419fe90",
   "metadata": {},
   "outputs": [],
   "source": [
    " #Data Manipulation"
   ]
  },
  {
   "cell_type": "code",
   "execution_count": 39,
   "id": "4d7cdc76-c52d-4b4e-8d6a-54edc91d61fc",
   "metadata": {},
   "outputs": [
    {
     "name": "stdout",
     "output_type": "stream",
     "text": [
      "[77.0, 113.0, 42.8, 44.6, 190.4, 194.0, 32.0]\n"
     ]
    }
   ],
   "source": [
    "celsius_temp=[25,45,6,7,88,90,0]\n",
    "fahrenheit_temp=[temp*9/5+32 for temp in celsius_temp]\n",
    "print(fahrenheit_temp)"
   ]
  },
  {
   "cell_type": "code",
   "execution_count": 48,
   "id": "8c4adb2d-8c05-4dae-9921-62cf759482b5",
   "metadata": {},
   "outputs": [
    {
     "name": "stdin",
     "output_type": "stream",
     "text": [
      "Enter the name of the email Raj\n"
     ]
    },
    {
     "name": "stdout",
     "output_type": "stream",
     "text": [
      "Not Found\n"
     ]
    }
   ],
   "source": [
    "contacts={\n",
    "    \"uday\":\"udaykiran@gmail.com\",\n",
    "    \"kiran\":\"kiran@gmail.com\",\n",
    "    \"king\":\"King@gmailcom\",\n",
    "    \"Age\":21\n",
    "}\n",
    "name=input(\"Enter the name of the email\")\n",
    "if name in contacts:\n",
    "    print(f\"the email for {name} is {contacts[name]}\")\n",
    "else:\n",
    "    print(\"Not Found\")\n"
   ]
  },
  {
   "cell_type": "code",
   "execution_count": 57,
   "id": "74aad86b-e368-4088-b588-57845ac2afd5",
   "metadata": {},
   "outputs": [],
   "source": [
    "import pandas as pd\n",
    "data=pd.read_csv('winners.csv')"
   ]
  },
  {
   "cell_type": "code",
   "execution_count": 59,
   "id": "54aeb06c-faaf-4b92-9553-59cf34dade01",
   "metadata": {},
   "outputs": [
    {
     "name": "stdout",
     "output_type": "stream",
     "text": [
      "Grand Prix    1110\n",
      "Date          1110\n",
      "Winner        1110\n",
      "Car           1110\n",
      "Laps          1107\n",
      "Time          1107\n",
      "Name Code     1110\n",
      "dtype: int64\n"
     ]
    }
   ],
   "source": [
    "# print(data.head())\n",
    "print(data.count())"
   ]
  },
  {
   "cell_type": "code",
   "execution_count": 60,
   "id": "ceb60463-53f6-453f-9e0f-fe100a6510d0",
   "metadata": {},
   "outputs": [
    {
     "name": "stdout",
     "output_type": "stream",
     "text": [
      "<class 'pandas.core.frame.DataFrame'>\n",
      "RangeIndex: 1110 entries, 0 to 1109\n",
      "Data columns (total 7 columns):\n",
      " #   Column      Non-Null Count  Dtype  \n",
      "---  ------      --------------  -----  \n",
      " 0   Grand Prix  1110 non-null   object \n",
      " 1   Date        1110 non-null   object \n",
      " 2   Winner      1110 non-null   object \n",
      " 3   Car         1110 non-null   object \n",
      " 4   Laps        1107 non-null   float64\n",
      " 5   Time        1107 non-null   object \n",
      " 6   Name Code   1110 non-null   object \n",
      "dtypes: float64(1), object(6)\n",
      "memory usage: 60.8+ KB\n"
     ]
    }
   ],
   "source": [
    "data.info()"
   ]
  },
  {
   "cell_type": "code",
   "execution_count": 78,
   "id": "3da45868-ef83-4849-b065-8445e71d143f",
   "metadata": {},
   "outputs": [
    {
     "name": "stdout",
     "output_type": "stream",
     "text": [
      "Grand Prix    0\n",
      "Date          0\n",
      "Winner        0\n",
      "Car           0\n",
      "Laps          3\n",
      "Time          3\n",
      "Name Code     0\n",
      "dtype: int64\n"
     ]
    }
   ],
   "source": [
    "missing_values=data.isnull().sum()\n",
    "print(missing_values)"
   ]
  },
  {
   "cell_type": "code",
   "execution_count": 83,
   "id": "b9b1a6bb-9c8c-4a52-965a-6d82501ebb1c",
   "metadata": {},
   "outputs": [
    {
     "name": "stdout",
     "output_type": "stream",
     "text": [
      "         Grand Prix        Date                Winner  \\\n",
      "0     Great Britain  1950-05-13         Nino  Farina    \n",
      "1            Monaco  1950-05-21  Juan Manuel  Fangio    \n",
      "2  Indianapolis 500  1950-05-30      Johnnie Parsons    \n",
      "3       Switzerland  1950-06-04         Nino  Farina    \n",
      "4           Belgium  1950-06-18  Juan Manuel  Fangio    \n",
      "\n",
      "                        Car   Laps         Time Name Code  \n",
      "0                Alfa Romeo   70.0  2:13:23.600       FAR  \n",
      "1                Alfa Romeo  100.0  3:13:18.700       FAN  \n",
      "2  Kurtis Kraft Offenhauser  138.0  2:46:55.970       PAR  \n",
      "3                Alfa Romeo   42.0  2:02:53.700       FAR  \n",
      "4                Alfa Romeo   35.0  2:47:26.000       FAN  \n"
     ]
    },
    {
     "data": {
      "text/plain": [
       "0        70.0\n",
       "1       100.0\n",
       "2       138.0\n",
       "3        42.0\n",
       "4        35.0\n",
       "        ...  \n",
       "1105     50.0\n",
       "1106     58.0\n",
       "1107     53.0\n",
       "1108     56.0\n",
       "1109     57.0\n",
       "Name: Laps, Length: 1110, dtype: float64"
      ]
     },
     "execution_count": 83,
     "metadata": {},
     "output_type": "execute_result"
    }
   ],
   "source": [
    "print(data.head())\n",
    "data['Laps'].fillna(data['Laps'].mean())\n",
    "\n",
    "\n"
   ]
  },
  {
   "cell_type": "code",
   "execution_count": 84,
   "id": "e628df09-a2c8-4cfc-96f9-29c8b659530e",
   "metadata": {},
   "outputs": [
    {
     "name": "stdout",
     "output_type": "stream",
     "text": [
      "<class 'pandas.core.frame.DataFrame'>\n",
      "RangeIndex: 1110 entries, 0 to 1109\n",
      "Data columns (total 7 columns):\n",
      " #   Column      Non-Null Count  Dtype  \n",
      "---  ------      --------------  -----  \n",
      " 0   Grand Prix  1110 non-null   object \n",
      " 1   Date        1110 non-null   object \n",
      " 2   Winner      1110 non-null   object \n",
      " 3   Car         1110 non-null   object \n",
      " 4   Laps        1107 non-null   float64\n",
      " 5   Time        1107 non-null   object \n",
      " 6   Name Code   1110 non-null   object \n",
      "dtypes: float64(1), object(6)\n",
      "memory usage: 60.8+ KB\n"
     ]
    }
   ],
   "source": [
    "data.info()"
   ]
  },
  {
   "cell_type": "code",
   "execution_count": 86,
   "id": "41ce12c8-3b03-4920-a4b2-c4f1ff1fd27f",
   "metadata": {},
   "outputs": [],
   "source": [
    "import matplotlib.pyplot as plt\n",
    "import seaborn as sns\n"
   ]
  },
  {
   "cell_type": "code",
   "execution_count": 100,
   "id": "abfd6f9f-2cf1-4245-a7ec-54c6f2bead6e",
   "metadata": {},
   "outputs": [
    {
     "data": {
      "image/png": "[encoded data removed]",
      "text/plain": [
       "<Figure size 640x480 with 1 Axes>"
      ]
     },
     "metadata": {},
     "output_type": "display_data"
    }
   ],
   "source": [
    "sns.boxplot(x='Laps',data=data)\n",
    "plt.show()"
   ]
  },
  {
   "cell_type": "code",
   "execution_count": 92,
   "id": "8282fb62-4a9b-4630-ba44-5a52ca9633a2",
   "metadata": {},
   "outputs": [
    {
     "name": "stdout",
     "output_type": "stream",
     "text": [
      "         Grand Prix        Date                Winner  \\\n",
      "0     Great Britain  1950-05-13         Nino  Farina    \n",
      "1            Monaco  1950-05-21  Juan Manuel  Fangio    \n",
      "2  Indianapolis 500  1950-05-30      Johnnie Parsons    \n",
      "3       Switzerland  1950-06-04         Nino  Farina    \n",
      "4           Belgium  1950-06-18  Juan Manuel  Fangio    \n",
      "\n",
      "                        Car   Laps         Time Name Code  \n",
      "0                Alfa Romeo   70.0  2:13:23.600       FAR  \n",
      "1                Alfa Romeo  100.0  3:13:18.700       FAN  \n",
      "2  Kurtis Kraft Offenhauser  138.0  2:46:55.970       PAR  \n",
      "3                Alfa Romeo   42.0  2:02:53.700       FAR  \n",
      "4                Alfa Romeo   35.0  2:47:26.000       FAN  \n"
     ]
    }
   ],
   "source": [
    "print(data.head())"
   ]
  },
  {
   "cell_type": "code",
   "execution_count": 101,
   "id": "ecc8839c-6087-4d27-9d2d-ee5d3a239573",
   "metadata": {},
   "outputs": [],
   "source": [
    "encoded_data=pd.get_dummies(data,columns=['Laps'])"
   ]
  },
  {
   "cell_type": "code",
   "execution_count": 102,
   "id": "4ef543de-a6e2-4527-92d4-8a71ff3242a8",
   "metadata": {},
   "outputs": [
    {
     "data": {
      "text/html": [
       "<div>\n",
       "<style scoped>\n",
       "    .dataframe tbody tr th:only-of-type {\n",
       "        vertical-align: middle;\n",
       "    }\n",
       "\n",
       "    .dataframe tbody tr th {\n",
       "        vertical-align: top;\n",
       "    }\n",
       "\n",
       "    .dataframe thead th {\n",
       "        text-align: right;\n",
       "    }\n",
       "</style>\n",
       "<table border=\"1\" class=\"dataframe\">\n",
       "  <thead>\n",
       "    <tr style=\"text-align: right;\">\n",
       "      <th></th>\n",
       "      <th>Grand Prix</th>\n",
       "      <th>Date</th>\n",
       "      <th>Winner</th>\n",
       "      <th>Car</th>\n",
       "      <th>Time</th>\n",
       "      <th>Name Code</th>\n",
       "      <th>Laps_1.0</th>\n",
       "      <th>Laps_12.0</th>\n",
       "      <th>Laps_14.0</th>\n",
       "      <th>Laps_15.0</th>\n",
       "      <th>...</th>\n",
       "      <th>Laps_96.0</th>\n",
       "      <th>Laps_97.0</th>\n",
       "      <th>Laps_98.0</th>\n",
       "      <th>Laps_100.0</th>\n",
       "      <th>Laps_101.0</th>\n",
       "      <th>Laps_105.0</th>\n",
       "      <th>Laps_108.0</th>\n",
       "      <th>Laps_110.0</th>\n",
       "      <th>Laps_138.0</th>\n",
       "      <th>Laps_200.0</th>\n",
       "    </tr>\n",
       "  </thead>\n",
       "  <tbody>\n",
       "    <tr>\n",
       "      <th>0</th>\n",
       "      <td>Great Britain</td>\n",
       "      <td>1950-05-13</td>\n",
       "      <td>Nino  Farina</td>\n",
       "      <td>Alfa Romeo</td>\n",
       "      <td>2:13:23.600</td>\n",
       "      <td>FAR</td>\n",
       "      <td>False</td>\n",
       "      <td>False</td>\n",
       "      <td>False</td>\n",
       "      <td>False</td>\n",
       "      <td>...</td>\n",
       "      <td>False</td>\n",
       "      <td>False</td>\n",
       "      <td>False</td>\n",
       "      <td>False</td>\n",
       "      <td>False</td>\n",
       "      <td>False</td>\n",
       "      <td>False</td>\n",
       "      <td>False</td>\n",
       "      <td>False</td>\n",
       "      <td>False</td>\n",
       "    </tr>\n",
       "    <tr>\n",
       "      <th>1</th>\n",
       "      <td>Monaco</td>\n",
       "      <td>1950-05-21</td>\n",
       "      <td>Juan Manuel  Fangio</td>\n",
       "      <td>Alfa Romeo</td>\n",
       "      <td>3:13:18.700</td>\n",
       "      <td>FAN</td>\n",
       "      <td>False</td>\n",
       "      <td>False</td>\n",
       "      <td>False</td>\n",
       "      <td>False</td>\n",
       "      <td>...</td>\n",
       "      <td>False</td>\n",
       "      <td>False</td>\n",
       "      <td>False</td>\n",
       "      <td>True</td>\n",
       "      <td>False</td>\n",
       "      <td>False</td>\n",
       "      <td>False</td>\n",
       "      <td>False</td>\n",
       "      <td>False</td>\n",
       "      <td>False</td>\n",
       "    </tr>\n",
       "    <tr>\n",
       "      <th>2</th>\n",
       "      <td>Indianapolis 500</td>\n",
       "      <td>1950-05-30</td>\n",
       "      <td>Johnnie Parsons</td>\n",
       "      <td>Kurtis Kraft Offenhauser</td>\n",
       "      <td>2:46:55.970</td>\n",
       "      <td>PAR</td>\n",
       "      <td>False</td>\n",
       "      <td>False</td>\n",
       "      <td>False</td>\n",
       "      <td>False</td>\n",
       "      <td>...</td>\n",
       "      <td>False</td>\n",
       "      <td>False</td>\n",
       "      <td>False</td>\n",
       "      <td>False</td>\n",
       "      <td>False</td>\n",
       "      <td>False</td>\n",
       "      <td>False</td>\n",
       "      <td>False</td>\n",
       "      <td>True</td>\n",
       "      <td>False</td>\n",
       "    </tr>\n",
       "    <tr>\n",
       "      <th>3</th>\n",
       "      <td>Switzerland</td>\n",
       "      <td>1950-06-04</td>\n",
       "      <td>Nino  Farina</td>\n",
       "      <td>Alfa Romeo</td>\n",
       "      <td>2:02:53.700</td>\n",
       "      <td>FAR</td>\n",
       "      <td>False</td>\n",
       "      <td>False</td>\n",
       "      <td>False</td>\n",
       "      <td>False</td>\n",
       "      <td>...</td>\n",
       "      <td>False</td>\n",
       "      <td>False</td>\n",
       "      <td>False</td>\n",
       "      <td>False</td>\n",
       "      <td>False</td>\n",
       "      <td>False</td>\n",
       "      <td>False</td>\n",
       "      <td>False</td>\n",
       "      <td>False</td>\n",
       "      <td>False</td>\n",
       "    </tr>\n",
       "    <tr>\n",
       "      <th>4</th>\n",
       "      <td>Belgium</td>\n",
       "      <td>1950-06-18</td>\n",
       "      <td>Juan Manuel  Fangio</td>\n",
       "      <td>Alfa Romeo</td>\n",
       "      <td>2:47:26.000</td>\n",
       "      <td>FAN</td>\n",
       "      <td>False</td>\n",
       "      <td>False</td>\n",
       "      <td>False</td>\n",
       "      <td>False</td>\n",
       "      <td>...</td>\n",
       "      <td>False</td>\n",
       "      <td>False</td>\n",
       "      <td>False</td>\n",
       "      <td>False</td>\n",
       "      <td>False</td>\n",
       "      <td>False</td>\n",
       "      <td>False</td>\n",
       "      <td>False</td>\n",
       "      <td>False</td>\n",
       "      <td>False</td>\n",
       "    </tr>\n",
       "  </tbody>\n",
       "</table>\n",
       "<p>5 rows × 79 columns</p>\n",
       "</div>"
      ],
      "text/plain": [
       "         Grand Prix        Date                Winner  \\\n",
       "0     Great Britain  1950-05-13         Nino  Farina    \n",
       "1            Monaco  1950-05-21  Juan Manuel  Fangio    \n",
       "2  Indianapolis 500  1950-05-30      Johnnie Parsons    \n",
       "3       Switzerland  1950-06-04         Nino  Farina    \n",
       "4           Belgium  1950-06-18  Juan Manuel  Fangio    \n",
       "\n",
       "                        Car         Time Name Code  Laps_1.0  Laps_12.0  \\\n",
       "0                Alfa Romeo  2:13:23.600       FAR     False      False   \n",
       "1                Alfa Romeo  3:13:18.700       FAN     False      False   \n",
       "2  Kurtis Kraft Offenhauser  2:46:55.970       PAR     False      False   \n",
       "3                Alfa Romeo  2:02:53.700       FAR     False      False   \n",
       "4                Alfa Romeo  2:47:26.000       FAN     False      False   \n",
       "\n",
       "   Laps_14.0  Laps_15.0  ...  Laps_96.0  Laps_97.0  Laps_98.0  Laps_100.0  \\\n",
       "0      False      False  ...      False      False      False       False   \n",
       "1      False      False  ...      False      False      False        True   \n",
       "2      False      False  ...      False      False      False       False   \n",
       "3      False      False  ...      False      False      False       False   \n",
       "4      False      False  ...      False      False      False       False   \n",
       "\n",
       "   Laps_101.0  Laps_105.0  Laps_108.0  Laps_110.0  Laps_138.0  Laps_200.0  \n",
       "0       False       False       False       False       False       False  \n",
       "1       False       False       False       False       False       False  \n",
       "2       False       False       False       False        True       False  \n",
       "3       False       False       False       False       False       False  \n",
       "4       False       False       False       False       False       False  \n",
       "\n",
       "[5 rows x 79 columns]"
      ]
     },
     "execution_count": 102,
     "metadata": {},
     "output_type": "execute_result"
    }
   ],
   "source": [
    "encoded_data.head()"
   ]
  },
  {
   "cell_type": "code",
   "execution_count": 118,
   "id": "c99de9c1-052c-48de-a87e-625cf285a0de",
   "metadata": {},
   "outputs": [
    {
     "name": "stderr",
     "output_type": "stream",
     "text": [
      "No artists with labels found to put in legend.  Note that artists whose label start with an underscore are ignored when legend() is called with no argument.\n"
     ]
    },
    {
     "data": {
      "image/png": "[encoded data removed]",
      "text/plain": [
       "<Figure size 640x480 with 1 Axes>"
      ]
     },
     "metadata": {},
     "output_type": "display_data"
    }
   ],
   "source": [
    "plt.bar(data['Laps'],color=\"red\",height=2)\n",
    "plt.xlabel('Laps')\n",
    "plt.ylabel('Frequency')\n",
    "plt.title('Laps of the cars')\n",
    "plt.legend()\n",
    "plt.show()\n"
   ]
  },
  {
   "cell_type": "code",
   "execution_count": 132,
   "id": "581c92d2-bb3d-4d33-a660-f1caddb8edf3",
   "metadata": {},
   "outputs": [
    {
     "data": {
      "image/png": "[encoded data removed]",
      "text/plain": [
       "<Figure size 640x480 with 1 Axes>"
      ]
     },
     "metadata": {},
     "output_type": "display_data"
    }
   ],
   "source": [
    "\n",
    "data=pd.read_csv('titanic.csv')\n",
    "plt.bar(data['Survived'],height=1,color='red')\n",
    "plt.xlabel('survived')\n",
    "plt.ylabel('frequency')\n",
    "plt.show()"
   ]
  },
  {
   "cell_type": "code",
   "execution_count": 135,
   "id": "8e85efc0-94ee-4f4f-8f0f-589de44bac20",
   "metadata": {},
   "outputs": [
    {
     "name": "stdout",
     "output_type": "stream",
     "text": [
      "<class 'pandas.core.frame.DataFrame'>\n",
      "RangeIndex: 891 entries, 0 to 890\n",
      "Data columns (total 12 columns):\n",
      " #   Column       Non-Null Count  Dtype  \n",
      "---  ------       --------------  -----  \n",
      " 0   PassengerId  891 non-null    int64  \n",
      " 1   Survived     891 non-null    int64  \n",
      " 2   Pclass       891 non-null    int64  \n",
      " 3   Name         891 non-null    object \n",
      " 4   Sex          891 non-null    object \n",
      " 5   Age          714 non-null    float64\n",
      " 6   SibSp        891 non-null    int64  \n",
      " 7   Parch        891 non-null    int64  \n",
      " 8   Ticket       891 non-null    object \n",
      " 9   Fare         891 non-null    float64\n",
      " 10  Cabin        204 non-null    object \n",
      " 11  Embarked     889 non-null    object \n",
      "dtypes: float64(2), int64(5), object(5)\n",
      "memory usage: 83.7+ KB\n"
     ]
    },
    {
     "data": {
      "text/html": [
       "<div>\n",
       "<style scoped>\n",
       "    .dataframe tbody tr th:only-of-type {\n",
       "        vertical-align: middle;\n",
       "    }\n",
       "\n",
       "    .dataframe tbody tr th {\n",
       "        vertical-align: top;\n",
       "    }\n",
       "\n",
       "    .dataframe thead th {\n",
       "        text-align: right;\n",
       "    }\n",
       "</style>\n",
       "<table border=\"1\" class=\"dataframe\">\n",
       "  <thead>\n",
       "    <tr style=\"text-align: right;\">\n",
       "      <th></th>\n",
       "      <th>PassengerId</th>\n",
       "      <th>Survived</th>\n",
       "      <th>Pclass</th>\n",
       "      <th>Name</th>\n",
       "      <th>Sex</th>\n",
       "      <th>Age</th>\n",
       "      <th>SibSp</th>\n",
       "      <th>Parch</th>\n",
       "      <th>Ticket</th>\n",
       "      <th>Fare</th>\n",
       "      <th>Cabin</th>\n",
       "      <th>Embarked</th>\n",
       "    </tr>\n",
       "  </thead>\n",
       "  <tbody>\n",
       "    <tr>\n",
       "      <th>0</th>\n",
       "      <td>False</td>\n",
       "      <td>False</td>\n",
       "      <td>False</td>\n",
       "      <td>False</td>\n",
       "      <td>False</td>\n",
       "      <td>False</td>\n",
       "      <td>False</td>\n",
       "      <td>False</td>\n",
       "      <td>False</td>\n",
       "      <td>False</td>\n",
       "      <td>True</td>\n",
       "      <td>False</td>\n",
       "    </tr>\n",
       "    <tr>\n",
       "      <th>1</th>\n",
       "      <td>False</td>\n",
       "      <td>False</td>\n",
       "      <td>False</td>\n",
       "      <td>False</td>\n",
       "      <td>False</td>\n",
       "      <td>False</td>\n",
       "      <td>False</td>\n",
       "      <td>False</td>\n",
       "      <td>False</td>\n",
       "      <td>False</td>\n",
       "      <td>False</td>\n",
       "      <td>False</td>\n",
       "    </tr>\n",
       "    <tr>\n",
       "      <th>2</th>\n",
       "      <td>False</td>\n",
       "      <td>False</td>\n",
       "      <td>False</td>\n",
       "      <td>False</td>\n",
       "      <td>False</td>\n",
       "      <td>False</td>\n",
       "      <td>False</td>\n",
       "      <td>False</td>\n",
       "      <td>False</td>\n",
       "      <td>False</td>\n",
       "      <td>True</td>\n",
       "      <td>False</td>\n",
       "    </tr>\n",
       "    <tr>\n",
       "      <th>3</th>\n",
       "      <td>False</td>\n",
       "      <td>False</td>\n",
       "      <td>False</td>\n",
       "      <td>False</td>\n",
       "      <td>False</td>\n",
       "      <td>False</td>\n",
       "      <td>False</td>\n",
       "      <td>False</td>\n",
       "      <td>False</td>\n",
       "      <td>False</td>\n",
       "      <td>False</td>\n",
       "      <td>False</td>\n",
       "    </tr>\n",
       "    <tr>\n",
       "      <th>4</th>\n",
       "      <td>False</td>\n",
       "      <td>False</td>\n",
       "      <td>False</td>\n",
       "      <td>False</td>\n",
       "      <td>False</td>\n",
       "      <td>False</td>\n",
       "      <td>False</td>\n",
       "      <td>False</td>\n",
       "      <td>False</td>\n",
       "      <td>False</td>\n",
       "      <td>True</td>\n",
       "      <td>False</td>\n",
       "    </tr>\n",
       "    <tr>\n",
       "      <th>...</th>\n",
       "      <td>...</td>\n",
       "      <td>...</td>\n",
       "      <td>...</td>\n",
       "      <td>...</td>\n",
       "      <td>...</td>\n",
       "      <td>...</td>\n",
       "      <td>...</td>\n",
       "      <td>...</td>\n",
       "      <td>...</td>\n",
       "      <td>...</td>\n",
       "      <td>...</td>\n",
       "      <td>...</td>\n",
       "    </tr>\n",
       "    <tr>\n",
       "      <th>886</th>\n",
       "      <td>False</td>\n",
       "      <td>False</td>\n",
       "      <td>False</td>\n",
       "      <td>False</td>\n",
       "      <td>False</td>\n",
       "      <td>False</td>\n",
       "      <td>False</td>\n",
       "      <td>False</td>\n",
       "      <td>False</td>\n",
       "      <td>False</td>\n",
       "      <td>True</td>\n",
       "      <td>False</td>\n",
       "    </tr>\n",
       "    <tr>\n",
       "      <th>887</th>\n",
       "      <td>False</td>\n",
       "      <td>False</td>\n",
       "      <td>False</td>\n",
       "      <td>False</td>\n",
       "      <td>False</td>\n",
       "      <td>False</td>\n",
       "      <td>False</td>\n",
       "      <td>False</td>\n",
       "      <td>False</td>\n",
       "      <td>False</td>\n",
       "      <td>False</td>\n",
       "      <td>False</td>\n",
       "    </tr>\n",
       "    <tr>\n",
       "      <th>888</th>\n",
       "      <td>False</td>\n",
       "      <td>False</td>\n",
       "      <td>False</td>\n",
       "      <td>False</td>\n",
       "      <td>False</td>\n",
       "      <td>True</td>\n",
       "      <td>False</td>\n",
       "      <td>False</td>\n",
       "      <td>False</td>\n",
       "      <td>False</td>\n",
       "      <td>True</td>\n",
       "      <td>False</td>\n",
       "    </tr>\n",
       "    <tr>\n",
       "      <th>889</th>\n",
       "      <td>False</td>\n",
       "      <td>False</td>\n",
       "      <td>False</td>\n",
       "      <td>False</td>\n",
       "      <td>False</td>\n",
       "      <td>False</td>\n",
       "      <td>False</td>\n",
       "      <td>False</td>\n",
       "      <td>False</td>\n",
       "      <td>False</td>\n",
       "      <td>False</td>\n",
       "      <td>False</td>\n",
       "    </tr>\n",
       "    <tr>\n",
       "      <th>890</th>\n",
       "      <td>False</td>\n",
       "      <td>False</td>\n",
       "      <td>False</td>\n",
       "      <td>False</td>\n",
       "      <td>False</td>\n",
       "      <td>False</td>\n",
       "      <td>False</td>\n",
       "      <td>False</td>\n",
       "      <td>False</td>\n",
       "      <td>False</td>\n",
       "      <td>True</td>\n",
       "      <td>False</td>\n",
       "    </tr>\n",
       "  </tbody>\n",
       "</table>\n",
       "<p>891 rows × 12 columns</p>\n",
       "</div>"
      ],
      "text/plain": [
       "     PassengerId  Survived  Pclass   Name    Sex    Age  SibSp  Parch  Ticket  \\\n",
       "0          False     False   False  False  False  False  False  False   False   \n",
       "1          False     False   False  False  False  False  False  False   False   \n",
       "2          False     False   False  False  False  False  False  False   False   \n",
       "3          False     False   False  False  False  False  False  False   False   \n",
       "4          False     False   False  False  False  False  False  False   False   \n",
       "..           ...       ...     ...    ...    ...    ...    ...    ...     ...   \n",
       "886        False     False   False  False  False  False  False  False   False   \n",
       "887        False     False   False  False  False  False  False  False   False   \n",
       "888        False     False   False  False  False   True  False  False   False   \n",
       "889        False     False   False  False  False  False  False  False   False   \n",
       "890        False     False   False  False  False  False  False  False   False   \n",
       "\n",
       "      Fare  Cabin  Embarked  \n",
       "0    False   True     False  \n",
       "1    False  False     False  \n",
       "2    False   True     False  \n",
       "3    False  False     False  \n",
       "4    False   True     False  \n",
       "..     ...    ...       ...  \n",
       "886  False   True     False  \n",
       "887  False  False     False  \n",
       "888  False   True     False  \n",
       "889  False  False     False  \n",
       "890  False   True     False  \n",
       "\n",
       "[891 rows x 12 columns]"
      ]
     },
     "execution_count": 135,
     "metadata": {},
     "output_type": "execute_result"
    }
   ],
   "source": []
  },
  {
   "cell_type": "code",
   "execution_count": null,
   "id": "d251ae22-0e00-49ef-8d26-c5c82ec6f7fb",
   "metadata": {},
   "outputs": [],
   "source": []
  },
  {
   "cell_type": "code",
   "execution_count": null,
   "id": "1c35816a-b6e3-44c4-bbaf-a48a5e3efc4c",
   "metadata": {},
   "outputs": [],
   "source": []
  }
 ],
 "metadata": {
  "kernelspec": {
   "display_name": "Python 3 (ipykernel)",
   "language": "python",
   "name": "python3"
  },
  "language_info": {
   "codemirror_mode": {
    "name": "ipython",
    "version": 3
   },
   "file_extension": ".py",
   "mimetype": "text/x-python",
   "name": "python",
   "nbconvert_exporter": "python",
   "pygments_lexer": "ipython3",
   "version": "3.11.9"
  }
 },
 "nbformat": 4,
 "nbformat_minor": 5
}
